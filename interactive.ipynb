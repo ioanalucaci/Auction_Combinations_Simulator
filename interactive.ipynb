{
 "cells": [
  {
   "cell_type": "markdown",
   "source": [
    "# Auction Simulator\n",
    "\n",
    "### Configuring the simulator\n",
    "To run the simulator, we first need to gather some information.\n",
    "\n",
    "First things first, we need to know what we will investigate.\n",
    "In data_type we will store what metrics we want to analyse, while in agent_type we store what agents we want to analyse the metrics for. The number of rounds determines how many simulations should be run for each combination of auction type and auctioneer."
   ],
   "metadata": {
    "collapsed": false
   }
  },
  {
   "cell_type": "code",
   "execution_count": null,
   "outputs": [],
   "source": [
    "import parameters_writer as pw\n",
    "\n",
    "number_of_rounds = 100\n",
    "data_type = ['Efficiency', 'Speed', 'Revenue']\n",
    "agent_type = ['Auction Types']\n",
    "\n",
    "pw.write_simulation_information(number_of_rounds, data_type, agent_type)"
   ],
   "metadata": {
    "collapsed": false,
    "pycharm": {
     "name": "#%%\n"
    }
   }
  },
  {
   "cell_type": "markdown",
   "source": [
    "There are 4 types of auctions that can be combined:\n",
    "- E - English\n",
    "- D - Dutch\n",
    "- F - First-price sealed-bid\n",
    "- V - Vickrey\n",
    "\n",
    "There are also four types of auctioneers, each with a different behaviour in terms of how the rate evolves over time:\n",
    "- *A* : constant function\n",
    "- *B* : increasing function\n",
    "- *C* : decreasing function\n",
    "- *D* : non-monotonous function\n",
    "\n",
    "We can choose multiple auction types and auctioneer types, but they must be separated by a comma and no space.\n",
    "The number of bidders represents how many bidders each auction will have. The reserve_price refers to the minimum price the auctioneer is willing to sell the item for."
   ],
   "metadata": {
    "collapsed": false
   }
  },
  {
   "cell_type": "code",
   "execution_count": null,
   "outputs": [],
   "source": [
    "number_of_bidders = 100\n",
    "auction_types = \"ED,DE,E,D\"\n",
    "reserve_price = 2000\n",
    "auctioneer_type = \"A,B,C,D\"\n",
    "\n",
    "pw.write_auction_information(number_of_bidders, auction_types, reserve_price, auctioneer_type)"
   ],
   "metadata": {
    "collapsed": false,
    "pycharm": {
     "name": "#%%\n"
    }
   }
  },
  {
   "cell_type": "markdown",
   "source": [
    "Finally, we need to establish what types of bidders we will have. All types of bidders **must** have a value, but it can be set to 0.\n",
    "These values will represent the percentages of bidders of a certain type. For example, if we put our number of bidders previously to be 200 and bidder_a is set to 25, that will mean there will be 50 bidders of type A (25% of 200)."
   ],
   "metadata": {
    "collapsed": false
   }
  },
  {
   "cell_type": "code",
   "execution_count": null,
   "outputs": [],
   "source": [
    "bidder_a = 25\n",
    "bidder_b = 25\n",
    "bidder_c = 25\n",
    "bidder_d = 25\n",
    "\n",
    "pw.write_bidders_percentages(bidder_a, bidder_b, bidder_c, bidder_d)"
   ],
   "metadata": {
    "collapsed": false,
    "pycharm": {
     "name": "#%%\n"
    }
   }
  },
  {
   "cell_type": "markdown",
   "source": [
    "### Running the simulator\n",
    "With all the information completed, we just need to run the simulator. The metrics will be automatically saved in a .csv file."
   ],
   "metadata": {
    "collapsed": false
   }
  },
  {
   "cell_type": "code",
   "execution_count": null,
   "outputs": [],
   "source": [
    "import main as m\n",
    "\n",
    "m.extract_information()\n",
    "m.run_simulation()"
   ],
   "metadata": {
    "collapsed": false,
    "pycharm": {
     "name": "#%%\n"
    }
   }
  },
  {
   "cell_type": "markdown",
   "source": [
    "Now that we have the data, all we need to do is analyse it. This function will show not only a bar chart and a box and whiskers chart, but also the ANOVA results for the specified metric."
   ],
   "metadata": {
    "collapsed": false,
    "pycharm": {
     "name": "#%% md\n"
    }
   }
  },
  {
   "cell_type": "code",
   "execution_count": null,
   "outputs": [],
   "source": [
    "m.analyse_data()"
   ],
   "metadata": {
    "collapsed": false,
    "pycharm": {
     "name": "#%%\n"
    }
   }
  }
 ],
 "metadata": {
  "kernelspec": {
   "display_name": "Python 3",
   "language": "python",
   "name": "python3"
  },
  "language_info": {
   "codemirror_mode": {
    "name": "ipython",
    "version": 2
   },
   "file_extension": ".py",
   "mimetype": "text/x-python",
   "name": "python",
   "nbconvert_exporter": "python",
   "pygments_lexer": "ipython2",
   "version": "2.7.6"
  }
 },
 "nbformat": 4,
 "nbformat_minor": 0
}